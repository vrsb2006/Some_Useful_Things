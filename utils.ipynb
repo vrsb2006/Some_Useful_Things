{
 "cells": [
  {
   "cell_type": "code",
   "execution_count": null,
   "metadata": {
    "collapsed": true
   },
   "outputs": [],
   "source": [
    "# Important libraries\n",
    "import numpy as np\n",
    "import pandas as pd\n",
    "np.random.seed(27)"
   ]
  },
  {
   "cell_type": "code",
   "execution_count": null,
   "metadata": {
    "collapsed": true
   },
   "outputs": [],
   "source": [
    "# Read Data\n",
    "train = pd.read_csv('data/train.csv')\n",
    "test = pd.read_csv('data/test.csv')\n",
    "\n",
    "# Target variable\n",
    "y = train['target'].values\n",
    "train.drop('target', axis = 1, inplace = True)"
   ]
  },
  {
   "cell_type": "code",
   "execution_count": null,
   "metadata": {
    "collapsed": true
   },
   "outputs": [],
   "source": [
    "# Label Encoder\n",
    "from sklearn import preprocessing\n",
    "\n",
    "for f in train.columns:\n",
    "    if train[f].dtype=='object':\n",
    "        print(f)\n",
    "        lbl = preprocessing.LabelEncoder()\n",
    "        lbl.fit(list(train[f].values) + list(test[f].values))\n",
    "        train[f] = lbl.transform(list(train[f].values))\n",
    "        test[f] = lbl.transform(list(test[f].values))\n",
    "        \n",
    "# One hot Encoder\n",
    "thresh = 5  # threshold for categorical variables\n",
    "combined = pd.concat([train, test], axis = 0)\n",
    "temp = pd.DataFrame()\n",
    "\n",
    "for i in combined.columns:\n",
    "    if combined[i].nunique() < thresh:\n",
    "        t = pd.get_dummies(combined[i], prefix = i)\n",
    "        temp = pd.concat([temp, t], axis = 1)\n",
    "        combined.drop(i, axis = 1, inplace = True)\n",
    "combined = pd.concat([combined, temp], axis = 1)\n",
    "\n",
    "train = combined.iloc[0:train.shape[0],:]\n",
    "test = combined.iloc[train.shape[0]:,:]"
   ]
  },
  {
   "cell_type": "code",
   "execution_count": null,
   "metadata": {
    "collapsed": true
   },
   "outputs": [],
   "source": [
    "# Label Encoding and one hot encoding on target variable\n",
    "from sklearn.preprocessing import OneHotEncoder\n",
    "\n",
    "# integer encode\n",
    "label_encoder = LabelEncoder()\n",
    "label_encoded = label_encoder.fit_transform(y_train)\n",
    "\n",
    "# binary encode\n",
    "onehot_encoder = OneHotEncoder(sparse=False)\n",
    "label_encoded = label_encoded.reshape(len(label_encoded), 1)\n",
    "onehot_encoded = onehot_encoder.fit_transform(label_encoded)"
   ]
  },
  {
   "cell_type": "code",
   "execution_count": null,
   "metadata": {
    "collapsed": true
   },
   "outputs": [],
   "source": [
    "# Stratified K fold, Might be useful in custom cross-validation, stacking and ensembling\n",
    "# For older versions of sklearn, use cross_validation instead of model_selection\n",
    "from sklearn.model_selection import train_test_split, KFold, StratifiedKFold\n",
    "\n",
    "kf = StratifiedKFold(n_splits = K, random_state = i, shuffle=False)    \n",
    "for train_index, test_index in kf.split(train, y):\n",
    "    train_X, valid_X = train.iloc[train_index,:], train.iloc[test_index,:]\n",
    "    train_y, valid_y = y[train_index], y[test_index]\n",
    "    \n",
    "# Simple train-test split\n",
    "train_X, valid_X, train_y, valid_y = train_test_split(train, y, test_size=0.3, random_state=27)"
   ]
  }
 ],
 "metadata": {
  "kernelspec": {
   "display_name": "Python 3",
   "language": "python",
   "name": "python3"
  },
  "language_info": {
   "codemirror_mode": {
    "name": "ipython",
    "version": 3
   },
   "file_extension": ".py",
   "mimetype": "text/x-python",
   "name": "python",
   "nbconvert_exporter": "python",
   "pygments_lexer": "ipython3",
   "version": "3.6.1"
  }
 },
 "nbformat": 4,
 "nbformat_minor": 2
}
